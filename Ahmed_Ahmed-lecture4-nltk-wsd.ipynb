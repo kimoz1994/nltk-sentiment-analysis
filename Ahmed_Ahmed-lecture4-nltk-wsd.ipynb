{
 "cells": [
  {
   "cell_type": "code",
   "execution_count": 1,
   "id": "complicated-lease",
   "metadata": {},
   "outputs": [],
   "source": [
    "from nltk.wsd import lesk"
   ]
  },
  {
   "cell_type": "code",
   "execution_count": 3,
   "id": "original-zealand",
   "metadata": {},
   "outputs": [],
   "source": [
    "from nltk.tokenize import word_tokenize"
   ]
  },
  {
   "cell_type": "code",
   "execution_count": 9,
   "id": "thirty-international",
   "metadata": {},
   "outputs": [],
   "source": [
    "c = lesk(word_tokenize(\"A rock is classified according to characteristics such as mineral and chemical composition\"),\"rock\")"
   ]
  },
  {
   "cell_type": "code",
   "execution_count": 10,
   "id": "wired-conducting",
   "metadata": {},
   "outputs": [
    {
     "name": "stdout",
     "output_type": "stream",
     "text": [
      "Synset('rock.n.04') (figurative) someone who is strong and stable and dependable; ; --Gospel According to Matthew\n"
     ]
    }
   ],
   "source": [
    "print(c,c.definition())"
   ]
  },
  {
   "cell_type": "code",
   "execution_count": 12,
   "id": "spanish-calculation",
   "metadata": {},
   "outputs": [],
   "source": [
    "cw = lesk(word_tokenize(\"Queen are a British rock band formed in London in 1970\"),\"rock\")"
   ]
  },
  {
   "cell_type": "code",
   "execution_count": 13,
   "id": "apparent-shuttle",
   "metadata": {},
   "outputs": [
    {
     "name": "stdout",
     "output_type": "stream",
     "text": [
      "Synset('rock_'n'_roll.n.01') a genre of popular music originating in the 1950s; a blend of black rhythm-and-blues with white country-and-western\n"
     ]
    }
   ],
   "source": [
    "print(cw, cw.definition())"
   ]
  }
 ],
 "metadata": {
  "kernelspec": {
   "display_name": "Python 3",
   "language": "python",
   "name": "python3"
  },
  "language_info": {
   "codemirror_mode": {
    "name": "ipython",
    "version": 3
   },
   "file_extension": ".py",
   "mimetype": "text/x-python",
   "name": "python",
   "nbconvert_exporter": "python",
   "pygments_lexer": "ipython3",
   "version": "3.8.8"
  }
 },
 "nbformat": 4,
 "nbformat_minor": 5
}
